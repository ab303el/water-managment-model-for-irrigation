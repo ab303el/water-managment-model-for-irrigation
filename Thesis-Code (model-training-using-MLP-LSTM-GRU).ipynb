{
 "cells": [
  {
   "cell_type": "code",
   "execution_count": 1172,
   "id": "e2531808",
   "metadata": {},
   "outputs": [
    {
     "name": "stdout",
     "output_type": "stream",
     "text": [
      "imported\n"
     ]
    }
   ],
   "source": [
    "import numpy as np\n",
    "import pandas as pd\n",
    "from sklearn.model_selection import train_test_split\n",
    "from sklearn.preprocessing import StandardScaler\n",
    "# from sklearn.neural_network import MLPClassifier\n",
    "# import tensorflow as tf\n",
    "# from tensorflow.keras.models import Sequential\n",
    "# from tensorflow.keras.layers import Dense, LSTM\n",
    "from sklearn.metrics import accuracy_score, precision_score, recall_score, f1_score, confusion_matrix\n",
    "from tensorflow.keras.models import Sequential\n",
    "from tensorflow.keras.layers import Dense\n",
    "from tensorflow.keras.optimizers import Adam\n",
    "from tensorflow.keras.layers import LSTM\n",
    "from tensorflow.keras.layers import GRU\n",
    "\n",
    "print('imported')"
   ]
  },
  {
   "cell_type": "code",
   "execution_count": 1173,
   "id": "596b0663",
   "metadata": {},
   "outputs": [
    {
     "name": "stdout",
     "output_type": "stream",
     "text": [
      "<class 'pandas.core.frame.DataFrame'>\n",
      "RangeIndex: 2282 entries, 0 to 2281\n",
      "Data columns (total 18 columns):\n",
      " #   Column          Non-Null Count  Dtype  \n",
      "---  ------          --------------  -----  \n",
      " 0   ph              2282 non-null   float64\n",
      " 1   p               2282 non-null   float64\n",
      " 2   k               2282 non-null   float64\n",
      " 3   ca              2282 non-null   float64\n",
      " 4   mg              2282 non-null   float64\n",
      " 5   mn              2282 non-null   float64\n",
      " 6   s               2282 non-null   float64\n",
      " 7   cu              2282 non-null   float64\n",
      " 8   b               2282 non-null   float64\n",
      " 9   zn              2282 non-null   float64\n",
      " 10  na              2282 non-null   float64\n",
      " 11  fe              2282 non-null   float64\n",
      " 12  al              2282 non-null   float64\n",
      " 13  si              2282 non-null   float64\n",
      " 14  co              2282 non-null   float64\n",
      " 15  mo              2282 non-null   float64\n",
      " 16  ec              2282 non-null   float64\n",
      " 17  final_irrigate  2282 non-null   int64  \n",
      "dtypes: float64(17), int64(1)\n",
      "memory usage: 321.0 KB\n"
     ]
    }
   ],
   "source": [
    "# Load and preprocess data\n",
    "data = pd.read_csv('final_dataset_with_weighted_voting.csv')\n",
    "data.head()\n",
    "data.info()"
   ]
  },
  {
   "cell_type": "code",
   "execution_count": 1174,
   "id": "6d73fb24",
   "metadata": {},
   "outputs": [],
   "source": [
    "# Define features (X) and target variable (y)\n",
    "X = data[['ph', 'p', 'k', 'ca', 'mg', 'mn', 's', 'cu', 'b', 'zn', 'na',\n",
    "        'fe', 'al', 'si', 'co', 'mo', 'ec' ,]]\n",
    "y = data['final_irrigate']"
   ]
  },
  {
   "cell_type": "code",
   "execution_count": 1175,
   "id": "3b02db68",
   "metadata": {},
   "outputs": [
    {
     "data": {
      "text/plain": [
       "array([[ 6.93952155e-15,  4.79774618e+00,  8.73745928e-01, ...,\n",
       "        -1.61396014e+00, -5.25493775e-01,  8.52754739e-16],\n",
       "       [ 1.09013680e+00, -1.30528991e+00,  4.71672526e+00, ...,\n",
       "        -1.50501785e+00,  1.34527315e+00, -1.35839560e+00],\n",
       "       [ 6.93952155e-15,  3.69134782e+00,  1.22520974e+00, ...,\n",
       "        -1.59580309e+00, -7.28888735e-02,  8.52754739e-16],\n",
       "       ...,\n",
       "       [ 6.93952155e-15, -2.28235156e-15, -1.57724248e-15, ...,\n",
       "         1.61266982e-15,  6.02990860e-15,  8.52754739e-16],\n",
       "       [ 6.93952155e-15, -2.28235156e-15, -1.57724248e-15, ...,\n",
       "         1.61266982e-15,  6.02990860e-15,  8.52754739e-16],\n",
       "       [ 6.93952155e-15, -2.28235156e-15, -1.57724248e-15, ...,\n",
       "         1.61266982e-15,  6.02990860e-15,  8.52754739e-16]])"
      ]
     },
     "execution_count": 1175,
     "metadata": {},
     "output_type": "execute_result"
    }
   ],
   "source": [
    "# Normalize the features\n",
    "scaler = StandardScaler()\n",
    "X = scaler.fit_transform(X)\n",
    "X"
   ]
  },
  {
   "cell_type": "code",
   "execution_count": 1176,
   "id": "ce977ba7",
   "metadata": {},
   "outputs": [
    {
     "data": {
      "text/plain": [
       "1268    1\n",
       "1633    0\n",
       "700     1\n",
       "2028    1\n",
       "596     1\n",
       "       ..\n",
       "387     1\n",
       "649     1\n",
       "1645    1\n",
       "1318    1\n",
       "382     1\n",
       "Name: final_irrigate, Length: 457, dtype: int64"
      ]
     },
     "execution_count": 1176,
     "metadata": {},
     "output_type": "execute_result"
    }
   ],
   "source": [
    "# Split the data into training and testing sets\n",
    "X_train, X_test, y_train, y_test = train_test_split(X, y, test_size=0.2, random_state=42)\n",
    "X_train\n",
    "X_test\n",
    "y_train\n",
    "y_test"
   ]
  },
  {
   "cell_type": "code",
   "execution_count": 1177,
   "id": "ba2de87e",
   "metadata": {},
   "outputs": [],
   "source": [
    "# Evaluation Metrics\n",
    "import seaborn as sns\n",
    "\n",
    "def evaluate_model(y_true, y_pred):\n",
    "    accuracy = accuracy_score(y_true, y_pred)\n",
    "    precision = precision_score(y_true, y_pred)\n",
    "    recall = recall_score(y_true, y_pred)\n",
    "    f1 = f1_score(y_true, y_pred)\n",
    "    cm = confusion_matrix(y_true, y_pred)\n",
    "\n",
    "    print(f'Accuracy: {accuracy:.4f}')\n",
    "    print(f'Precision: {precision:.4f}')\n",
    "    print(f'Recall: {recall:.4f}')\n",
    "    print(f'F1 Score: {f1:.4f}')\n",
    "    print('Confusion Matrix:')\n",
    "    print(cm)\n",
    "\n",
    "    sns.heatmap(cm/np.sum(cm), annot=True, \n",
    "            fmt='.2%', cmap='Blues')\n"
   ]
  },
  {
   "cell_type": "code",
   "execution_count": 1178,
   "id": "c9282023",
   "metadata": {},
   "outputs": [],
   "source": [
    "import seaborn as sns\n",
    "\n",
    "# Function to plot evaluation metrics\n",
    "def plot_evaluation_metrics(history):\n",
    "    plt.figure(figsize=(12, 4))\n",
    "\n",
    "    # Plot accuracy\n",
    "    plt.subplot(1, 2, 1)\n",
    "    plt.plot(history.history['accuracy'], label='Training Accuracy')\n",
    "    plt.plot(history.history['val_accuracy'], label='Validation Accuracy')\n",
    "    plt.title('Model Accuracy')\n",
    "    plt.xlabel('Epoch')\n",
    "    plt.ylabel('Accuracy')\n",
    "    plt.legend()\n",
    "\n",
    "    # Plot loss\n",
    "    plt.subplot(1, 2, 2)\n",
    "    plt.plot(history.history['loss'], label='Training Loss')\n",
    "    plt.plot(history.history['val_loss'], label='Validation Loss')\n",
    "    plt.title('Model Loss')\n",
    "    plt.xlabel('Epoch')\n",
    "    plt.ylabel('Loss')\n",
    "    plt.legend()\n",
    "    \n",
    "\n",
    "\n",
    "    plt.tight_layout()\n",
    "    plt.show()"
   ]
  },
  {
   "cell_type": "code",
   "execution_count": 1179,
   "id": "ff9d0337",
   "metadata": {},
   "outputs": [],
   "source": [
    "# # MLP MODEL\n",
    "\n",
    "# def create_mlp_model(input_shape, layers, activation='relu', learning_rate=0.001):\n",
    "#     model = Sequential()\n",
    "#     for units in layers:\n",
    "#         model.add(Dense(units=units, activation=activation, input_shape=input_shape))\n",
    "#         input_shape = (units,)  # Update input shape for the next layer\n",
    "#     model.add(Dense(1, activation='sigmoid'))\n",
    "    \n",
    "#     optimizer = Adam(learning_rate=learning_rate)\n",
    "#     model.compile(optimizer=optimizer, loss='binary_crossentropy', metrics=['accuracy'])\n",
    "    \n",
    "#     return model\n",
    "\n",
    "# # MLP configurations\n",
    "# mlp_layers = [16]\n",
    "# mlp_activation = 'relu' #relu\n",
    "# mlp_learning_rate = 0.001\n",
    "# mlp_epochs = 20\n",
    "# mlp_batch_size = 32\n",
    "# # MLP\t16\t1\t20\t0.01\t32\trelu\n",
    "# # Creating and training MLP model\n",
    "# mlp_model = create_mlp_model((17,), mlp_layers, activation=mlp_activation, learning_rate=mlp_learning_rate)\n",
    "# mlp_history = mlp_model.fit(X_train, y_train, epochs=mlp_epochs, batch_size=mlp_batch_size, validation_data=(X_test, y_test))\n",
    "\n",
    "# # Save our trained MLP model\n",
    "# mlp_model.save('irrigation_prediction_mlp_model.h5')\n",
    "# print(\"Model saved as 'irrigation_prediction_mlp_model.h5'\")\n",
    "\n",
    "# # Evaluate the model\n",
    "# mlp_loss, mlp_accuracy = mlp_model.evaluate(X_test, y_test)\n",
    "# print(f'MLP Model Accuracy: {mlp_accuracy:.4f}')\n",
    "\n",
    "# # Predictions\n",
    "# y_pred_mlp = (mlp_model.predict(X_test) > 0.5).astype(\"int32\")\n",
    "\n",
    "# # Evaluation metrics\n",
    "# evaluate_model(y_test, y_pred_mlp)\n"
   ]
  },
  {
   "cell_type": "code",
   "execution_count": 1180,
   "id": "e29e1ab5",
   "metadata": {},
   "outputs": [],
   "source": [
    "# # Plot evaluation metrics\n",
    "# import matplotlib.pyplot as plt\n",
    "\n",
    "# print(\"\\nMLP Evaluation Metrics:\")\n",
    "# plot_evaluation_metrics(mlp_history)\n",
    "\n",
    "# # Extracting final accuracy and loss values\n",
    "# final_train_acc = mlp_history.history['accuracy'][-1]\n",
    "# final_val_acc = mlp_history.history['val_accuracy'][-1]\n",
    "# final_train_loss = mlp_history.history['loss'][-1]\n",
    "# final_val_loss = mlp_history.history['val_loss'][-1]\n",
    "\n",
    "# print(f'Final Training Accuracy: {final_train_acc}')\n",
    "# print(f'Final Validation Accuracy: {final_val_acc}')\n",
    "# print(f'Final Training Loss: {final_train_loss}')\n",
    "# print(f'Final Validation Loss: {final_val_loss}')"
   ]
  },
  {
   "cell_type": "code",
   "execution_count": null,
   "id": "7b09eebf",
   "metadata": {},
   "outputs": [],
   "source": []
  },
  {
   "cell_type": "code",
   "execution_count": 1181,
   "id": "d66897c6",
   "metadata": {},
   "outputs": [],
   "source": [
    "# # LSTM MODEL\n",
    "\n",
    "# def create_lstm_model(input_shape, lstm_units=50, layers=1, activation='tanh', learning_rate=0.001):\n",
    "#     model = Sequential()\n",
    "#     for _ in range(layers - 1):\n",
    "#         model.add(LSTM(units=lstm_units, activation=activation, return_sequences=True, input_shape=input_shape))\n",
    "#         input_shape = (None, lstm_units)  # Update input shape for the next layer\n",
    "#     model.add(LSTM(units=lstm_units, activation=activation, input_shape=input_shape))\n",
    "#     model.add(Dense(1, activation='sigmoid'))\n",
    "    \n",
    "#     optimizer = Adam(learning_rate=learning_rate)\n",
    "#     model.compile(optimizer=optimizer, loss='binary_crossentropy', metrics=['accuracy'])\n",
    "    \n",
    "#     return model\n",
    "\n",
    "# # LSTM configurations\n",
    "# lstm_units = 80 #50\n",
    "# lstm_layers = 2 #1\n",
    "# lstm_activation = 'relu' #tanh\n",
    "# lstm_learning_rate = 0.0001 #0.001\n",
    "# lstm_epochs = 30 #20\n",
    "# lstm_batch_size = 6 #6\n",
    "\n",
    "# #LSTM \t80\t2\t30\t0.0001\t6\trelu\n",
    "# # Reshape data for LSTM\n",
    "# X_train_lstm = X_train.reshape((X_train.shape[0], X_train.shape[1], 1))\n",
    "# X_test_lstm = X_test.reshape((X_test.shape[0], X_test.shape[1], 1))\n",
    "\n",
    "# # Create and train the LSTM model\n",
    "# lstm_model = create_lstm_model((17, 1), lstm_units, layers=lstm_layers, activation=lstm_activation, learning_rate=lstm_learning_rate)\n",
    "# lstm_history = lstm_model.fit(X_train_lstm, y_train, epochs=lstm_epochs, batch_size=lstm_batch_size, validation_data=(X_test_lstm, y_test))\n",
    "\n",
    "# # Save trained LSTM model\n",
    "# mlp_model.save('irrigation_prediction_lstm_model.h5')\n",
    "# print(\"Model saved as 'irrigation_prediction_lstm_model.h5'\")\n",
    "\n",
    "# # Evaluate the model\n",
    "# lstm_loss, lstm_accuracy = lstm_model.evaluate(X_test_lstm, y_test)\n",
    "# print(f'LSTM Model Accuracy: {lstm_accuracy:.4f}')\n",
    "\n",
    "# # Predictions\n",
    "# y_pred_lstm = (lstm_model.predict(X_test_lstm) > 0.5).astype(\"int32\")\n",
    "\n",
    "# # Evaluation metrics\n",
    "# evaluate_model(y_test, y_pred_lstm)\n"
   ]
  },
  {
   "cell_type": "code",
   "execution_count": 1182,
   "id": "79d4aa04",
   "metadata": {
    "scrolled": true
   },
   "outputs": [],
   "source": [
    "# # Plot evaluation metrics\n",
    "# import matplotlib.pyplot as plt\n",
    "\n",
    "# print(\"\\nLSTM Evaluation Metrics:\")\n",
    "# plot_evaluation_metrics(lstm_history)\n",
    "\n",
    "# # Extracting final accuracy and loss values\n",
    "# final_train_acc = lstm_history.history['accuracy'][-1]\n",
    "# final_val_acc = lstm_history.history['val_accuracy'][-1]\n",
    "# final_train_loss = lstm_history.history['loss'][-1]\n",
    "# final_val_loss = lstm_history.history['val_loss'][-1]\n",
    "\n",
    "# print(f'Final Training Accuracy: {final_train_acc}')\n",
    "# print(f'Final Validation Accuracy: {final_val_acc}')\n",
    "# print(f'Final Training Loss: {final_train_loss}')\n",
    "# print(f'Final Validation Loss: {final_val_loss}')"
   ]
  },
  {
   "cell_type": "code",
   "execution_count": null,
   "id": "10da5c1d",
   "metadata": {},
   "outputs": [],
   "source": []
  },
  {
   "cell_type": "code",
   "execution_count": 1183,
   "id": "ad706615",
   "metadata": {},
   "outputs": [
    {
     "name": "stderr",
     "output_type": "stream",
     "text": [
      "/Users/abel/opt/anaconda3/lib/python3.9/site-packages/keras/src/layers/rnn/rnn.py:204: UserWarning: Do not pass an `input_shape`/`input_dim` argument to a layer. When using Sequential models, prefer using an `Input(shape)` object as the first layer in the model instead.\n",
      "  super().__init__(**kwargs)\n"
     ]
    },
    {
     "name": "stdout",
     "output_type": "stream",
     "text": [
      "Epoch 1/20\n",
      "\u001b[1m58/58\u001b[0m \u001b[32m━━━━━━━━━━━━━━━━━━━━\u001b[0m\u001b[37m\u001b[0m \u001b[1m19s\u001b[0m 94ms/step - accuracy: 0.8317 - loss: 0.6756 - val_accuracy: 0.9519 - val_loss: 0.5627\n",
      "Epoch 2/20\n",
      "\u001b[1m58/58\u001b[0m \u001b[32m━━━━━━━━━━━━━━━━━━━━\u001b[0m\u001b[37m\u001b[0m \u001b[1m4s\u001b[0m 66ms/step - accuracy: 0.9532 - loss: 0.4528 - val_accuracy: 0.9519 - val_loss: 0.2151\n",
      "Epoch 3/20\n",
      "\u001b[1m58/58\u001b[0m \u001b[32m━━━━━━━━━━━━━━━━━━━━\u001b[0m\u001b[37m\u001b[0m \u001b[1m4s\u001b[0m 71ms/step - accuracy: 0.9622 - loss: 0.1763 - val_accuracy: 0.9519 - val_loss: 0.1849\n",
      "Epoch 4/20\n",
      "\u001b[1m58/58\u001b[0m \u001b[32m━━━━━━━━━━━━━━━━━━━━\u001b[0m\u001b[37m\u001b[0m \u001b[1m5s\u001b[0m 83ms/step - accuracy: 0.9480 - loss: 0.1965 - val_accuracy: 0.9519 - val_loss: 0.1674\n",
      "Epoch 5/20\n",
      "\u001b[1m58/58\u001b[0m \u001b[32m━━━━━━━━━━━━━━━━━━━━\u001b[0m\u001b[37m\u001b[0m \u001b[1m4s\u001b[0m 68ms/step - accuracy: 0.9543 - loss: 0.1616 - val_accuracy: 0.9519 - val_loss: 0.1555\n",
      "Epoch 6/20\n",
      "\u001b[1m58/58\u001b[0m \u001b[32m━━━━━━━━━━━━━━━━━━━━\u001b[0m\u001b[37m\u001b[0m \u001b[1m5s\u001b[0m 82ms/step - accuracy: 0.9630 - loss: 0.1256 - val_accuracy: 0.9519 - val_loss: 0.1474\n",
      "Epoch 7/20\n",
      "\u001b[1m58/58\u001b[0m \u001b[32m━━━━━━━━━━━━━━━━━━━━\u001b[0m\u001b[37m\u001b[0m \u001b[1m4s\u001b[0m 66ms/step - accuracy: 0.9582 - loss: 0.1376 - val_accuracy: 0.9519 - val_loss: 0.1411\n",
      "Epoch 8/20\n",
      "\u001b[1m58/58\u001b[0m \u001b[32m━━━━━━━━━━━━━━━━━━━━\u001b[0m\u001b[37m\u001b[0m \u001b[1m4s\u001b[0m 74ms/step - accuracy: 0.9595 - loss: 0.1212 - val_accuracy: 0.9519 - val_loss: 0.1392\n",
      "Epoch 9/20\n",
      "\u001b[1m58/58\u001b[0m \u001b[32m━━━━━━━━━━━━━━━━━━━━\u001b[0m\u001b[37m\u001b[0m \u001b[1m4s\u001b[0m 62ms/step - accuracy: 0.9488 - loss: 0.1426 - val_accuracy: 0.9519 - val_loss: 0.1394\n",
      "Epoch 10/20\n",
      "\u001b[1m58/58\u001b[0m \u001b[32m━━━━━━━━━━━━━━━━━━━━\u001b[0m\u001b[37m\u001b[0m \u001b[1m5s\u001b[0m 80ms/step - accuracy: 0.9534 - loss: 0.1262 - val_accuracy: 0.9562 - val_loss: 0.1390\n",
      "Epoch 11/20\n",
      "\u001b[1m58/58\u001b[0m \u001b[32m━━━━━━━━━━━━━━━━━━━━\u001b[0m\u001b[37m\u001b[0m \u001b[1m5s\u001b[0m 79ms/step - accuracy: 0.9554 - loss: 0.1203 - val_accuracy: 0.9540 - val_loss: 0.1352\n",
      "Epoch 12/20\n",
      "\u001b[1m58/58\u001b[0m \u001b[32m━━━━━━━━━━━━━━━━━━━━\u001b[0m\u001b[37m\u001b[0m \u001b[1m7s\u001b[0m 118ms/step - accuracy: 0.9539 - loss: 0.1274 - val_accuracy: 0.9497 - val_loss: 0.1365\n",
      "Epoch 13/20\n",
      "\u001b[1m58/58\u001b[0m \u001b[32m━━━━━━━━━━━━━━━━━━━━\u001b[0m\u001b[37m\u001b[0m \u001b[1m7s\u001b[0m 121ms/step - accuracy: 0.9618 - loss: 0.1182 - val_accuracy: 0.9497 - val_loss: 0.1357\n",
      "Epoch 14/20\n",
      "\u001b[1m58/58\u001b[0m \u001b[32m━━━━━━━━━━━━━━━━━━━━\u001b[0m\u001b[37m\u001b[0m \u001b[1m5s\u001b[0m 90ms/step - accuracy: 0.9648 - loss: 0.1020 - val_accuracy: 0.9519 - val_loss: 0.1368\n",
      "Epoch 15/20\n",
      "\u001b[1m58/58\u001b[0m \u001b[32m━━━━━━━━━━━━━━━━━━━━\u001b[0m\u001b[37m\u001b[0m \u001b[1m6s\u001b[0m 95ms/step - accuracy: 0.9522 - loss: 0.1540 - val_accuracy: 0.9584 - val_loss: 0.1353\n",
      "Epoch 16/20\n",
      "\u001b[1m58/58\u001b[0m \u001b[32m━━━━━━━━━━━━━━━━━━━━\u001b[0m\u001b[37m\u001b[0m \u001b[1m6s\u001b[0m 100ms/step - accuracy: 0.9558 - loss: 0.1169 - val_accuracy: 0.9540 - val_loss: 0.1358\n",
      "Epoch 17/20\n",
      "\u001b[1m58/58\u001b[0m \u001b[32m━━━━━━━━━━━━━━━━━━━━\u001b[0m\u001b[37m\u001b[0m \u001b[1m6s\u001b[0m 104ms/step - accuracy: 0.9647 - loss: 0.0947 - val_accuracy: 0.9519 - val_loss: 0.1386\n",
      "Epoch 18/20\n",
      "\u001b[1m58/58\u001b[0m \u001b[32m━━━━━━━━━━━━━━━━━━━━\u001b[0m\u001b[37m\u001b[0m \u001b[1m9s\u001b[0m 88ms/step - accuracy: 0.9646 - loss: 0.1147 - val_accuracy: 0.9519 - val_loss: 0.1378\n",
      "Epoch 19/20\n",
      "\u001b[1m58/58\u001b[0m \u001b[32m━━━━━━━━━━━━━━━━━━━━\u001b[0m\u001b[37m\u001b[0m \u001b[1m7s\u001b[0m 122ms/step - accuracy: 0.9593 - loss: 0.1108 - val_accuracy: 0.9519 - val_loss: 0.1382\n",
      "Epoch 20/20\n",
      "\u001b[1m58/58\u001b[0m \u001b[32m━━━━━━━━━━━━━━━━━━━━\u001b[0m\u001b[37m\u001b[0m \u001b[1m7s\u001b[0m 112ms/step - accuracy: 0.9652 - loss: 0.0986 - val_accuracy: 0.9431 - val_loss: 0.1419\n"
     ]
    },
    {
     "name": "stderr",
     "output_type": "stream",
     "text": [
      "WARNING:absl:You are saving your model as an HDF5 file via `model.save()` or `keras.saving.save_model(model)`. This file format is considered legacy. We recommend using instead the native Keras format, e.g. `model.save('my_model.keras')` or `keras.saving.save_model(model, 'my_model.keras')`. \n"
     ]
    },
    {
     "name": "stdout",
     "output_type": "stream",
     "text": [
      "Model saved as 'irrigation_prediction_gru_model.h5'\n",
      "\u001b[1m15/15\u001b[0m \u001b[32m━━━━━━━━━━━━━━━━━━━━\u001b[0m\u001b[37m\u001b[0m \u001b[1m0s\u001b[0m 20ms/step - accuracy: 0.9416 - loss: 0.1470\n",
      "GRU Model Accuracy: 0.9431\n",
      "\u001b[1m15/15\u001b[0m \u001b[32m━━━━━━━━━━━━━━━━━━━━\u001b[0m\u001b[37m\u001b[0m \u001b[1m5s\u001b[0m 203ms/step\n",
      "Accuracy: 0.9431\n",
      "Precision: 0.9701\n",
      "Recall: 0.9701\n",
      "F1 Score: 0.9701\n",
      "Confusion Matrix:\n",
      "[[  9  13]\n",
      " [ 13 422]]\n"
     ]
    },
    {
     "data": {
      "image/png": "[encoded data removed]",
      "text/plain": [
       "<Figure size 640x480 with 2 Axes>"
      ]
     },
     "metadata": {},
     "output_type": "display_data"
    }
   ],
   "source": [
    "# GRU MODEL\n",
    "\n",
    "def create_gru_model(input_shape, gru_units=50, layers=1, activation='tanh', learning_rate=0.001):\n",
    "    model = Sequential()\n",
    "    for _ in range(layers - 1):\n",
    "        model.add(GRU(units=gru_units, activation=activation, return_sequences=True, input_shape=input_shape))\n",
    "        input_shape = (None, gru_units)  # Update input shape for the next layer\n",
    "    model.add(GRU(units=gru_units, activation=activation, input_shape=input_shape))\n",
    "    model.add(Dense(1, activation='sigmoid'))\n",
    "    \n",
    "    optimizer = Adam(learning_rate=learning_rate)\n",
    "    model.compile(optimizer=optimizer, loss='binary_crossentropy', metrics=['accuracy'])\n",
    "    \n",
    "    return model\n",
    "\n",
    "# GRU configurations\n",
    "gru_units = 90 #50\n",
    "gru_layers = 4 #1\n",
    "gru_activation = 'relu' #tanh\n",
    "gru_learning_rate = 0.0001 #0.001\n",
    "gru_epochs = 20 #20\n",
    "gru_batch_size = 32 #32\n",
    "\n",
    "#GRU\t90\t4\t20\t0.0001\t32\trelu\n",
    "# Reshape data for GRU\n",
    "X_train_gru = X_train.reshape((X_train.shape[0], X_train.shape[1], 1))\n",
    "X_test_gru = X_test.reshape((X_test.shape[0], X_test.shape[1], 1))\n",
    "\n",
    "# Create and train the GRU model\n",
    "gru_model = create_gru_model((17, 1), gru_units, layers=gru_layers, activation=gru_activation, learning_rate=gru_learning_rate)\n",
    "gru_history = gru_model.fit(X_train_gru, y_train, epochs=gru_epochs, batch_size=gru_batch_size, validation_data=(X_test_gru, y_test))\n",
    "\n",
    "# Save trained GRU model\n",
    "mlp_model.save('irrigation_prediction_gru_model.h5')\n",
    "print(\"Model saved as 'irrigation_prediction_gru_model.h5'\")\n",
    "\n",
    "# Evaluate the model\n",
    "gru_loss, gru_accuracy = gru_model.evaluate(X_test_gru, y_test)\n",
    "print(f'GRU Model Accuracy: {gru_accuracy:.4f}')\n",
    "\n",
    "# Predictions\n",
    "y_pred_gru = (gru_model.predict(X_test_gru) > 0.5).astype(\"int32\")\n",
    "\n",
    "# Evaluation metrics\n",
    "evaluate_model(y_test, y_pred_gru)\n"
   ]
  },
  {
   "cell_type": "code",
   "execution_count": 1184,
   "id": "5ce4a4bd",
   "metadata": {},
   "outputs": [
    {
     "name": "stdout",
     "output_type": "stream",
     "text": [
      "\n",
      "GRU Evaluation Metrics:\n"
     ]
    },
    {
     "data": {
      "image/png": "[encoded data removed]",
      "text/plain": [
       "<Figure size 1200x400 with 2 Axes>"
      ]
     },
     "metadata": {},
     "output_type": "display_data"
    },
    {
     "name": "stdout",
     "output_type": "stream",
     "text": [
      "Final Training Accuracy: 0.9643835425376892\n",
      "Final Validation Accuracy: 0.9431072473526001\n",
      "Final Training Loss: 0.10643436759710312\n",
      "Final Validation Loss: 0.14188893139362335\n"
     ]
    }
   ],
   "source": [
    "# Plot evaluation metrics\n",
    "import matplotlib.pyplot as plt\n",
    "\n",
    "print(\"\\nGRU Evaluation Metrics:\")\n",
    "plot_evaluation_metrics(gru_history)\n",
    "\n",
    "# Extracting final accuracy and loss values\n",
    "final_train_acc = gru_history.history['accuracy'][-1]\n",
    "final_val_acc = gru_history.history['val_accuracy'][-1]\n",
    "final_train_loss = gru_history.history['loss'][-1]\n",
    "final_val_loss = gru_history.history['val_loss'][-1]\n",
    "\n",
    "print(f'Final Training Accuracy: {final_train_acc}')\n",
    "print(f'Final Validation Accuracy: {final_val_acc}')\n",
    "print(f'Final Training Loss: {final_train_loss}')\n",
    "print(f'Final Validation Loss: {final_val_loss}')"
   ]
  },
  {
   "cell_type": "code",
   "execution_count": null,
   "id": "c932edb9",
   "metadata": {},
   "outputs": [],
   "source": []
  },
  {
   "cell_type": "code",
   "execution_count": null,
   "id": "2080b862",
   "metadata": {},
   "outputs": [],
   "source": []
  }
 ],
 "metadata": {
  "kernelspec": {
   "display_name": "Python 3 (ipykernel)",
   "language": "python",
   "name": "python3"
  },
  "language_info": {
   "codemirror_mode": {
    "name": "ipython",
    "version": 3
   },
   "file_extension": ".py",
   "mimetype": "text/x-python",
   "name": "python",
   "nbconvert_exporter": "python",
   "pygments_lexer": "ipython3",
   "version": "3.9.13"
  },
  "widgets": {
   "application/vnd.jupyter.widget-state+json": {
    "state": {},
    "version_major": 2,
    "version_minor": 0
   }
  }
 },
 "nbformat": 4,
 "nbformat_minor": 5
}
