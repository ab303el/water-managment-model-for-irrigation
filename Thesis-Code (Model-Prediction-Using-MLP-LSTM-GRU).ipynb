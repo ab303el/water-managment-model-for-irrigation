{
 "cells": [
  {
   "cell_type": "code",
   "execution_count": 9,
   "id": "ca284de2",
   "metadata": {},
   "outputs": [
    {
     "name": "stderr",
     "output_type": "stream",
     "text": [
      "WARNING:absl:Compiled the loaded model, but the compiled metrics have yet to be built. `model.compile_metrics` will be empty until you train or evaluate the model.\n"
     ]
    },
    {
     "name": "stdout",
     "output_type": "stream",
     "text": [
      "Model <Sequential name=sequential_5, built=True> imported successfully\n"
     ]
    }
   ],
   "source": [
    "import numpy as np\n",
    "from keras.models import load_model\n",
    "from sklearn.preprocessing import StandardScaler\n",
    "\n",
    "# Load saved model\n",
    "model = load_model('irrigation_prediction_mlp_model.h5')\n",
    "# model = load_model('irrigation_prediction_lstm_model.h5')\n",
    "# model = load_model('irrigation_prediction_gru_model.h5')\n",
    "\n",
    "print(f'Model {model} imported successfully')"
   ]
  },
  {
   "cell_type": "code",
   "execution_count": 10,
   "id": "1fbee5e8",
   "metadata": {},
   "outputs": [],
   "source": [
    "feature_names = ['ph' , 'p' , 'k' , 'ca' , 'mg' , 'mn' , 's' , 'cu' , 'b' , 'zn' , 'na' , 'fe' , 'al' , 'si' , 'co' , 'mo' , 'ec']"
   ]
  },
  {
   "cell_type": "code",
   "execution_count": 11,
   "id": "6540d591",
   "metadata": {},
   "outputs": [
    {
     "name": "stdout",
     "output_type": "stream",
     "text": [
      "Enter the value for ph: 0\n",
      "Enter the value for p: 0\n",
      "Enter the value for k: 0\n",
      "Enter the value for ca: 0\n",
      "Enter the value for mg: 0\n",
      "Enter the value for mn: 0\n",
      "Enter the value for s: 0\n",
      "Enter the value for cu: 0\n",
      "Enter the value for b: 0\n",
      "Enter the value for zn: 0\n",
      "Enter the value for na: 0\n",
      "Enter the value for fe: 0\n",
      "Enter the value for al: 0\n",
      "Enter the value for si: 0\n",
      "Enter the value for co: 0\n",
      "Enter the value for mo: 0\n",
      "Enter the value for ec: 0\n"
     ]
    }
   ],
   "source": [
    "# Function \n",
    "def chemical_data():\n",
    "    data = []\n",
    "    for feature in feature_names:\n",
    "        value = float(input(f\"Enter the value for {feature}: \"))\n",
    "        data.append(value)\n",
    "    return np.array([data])\n",
    "\n",
    "# input new chemical data\n",
    "new_data = chemical_data()"
   ]
  },
  {
   "cell_type": "code",
   "execution_count": 12,
   "id": "b0b57e4c",
   "metadata": {},
   "outputs": [
    {
     "data": {
      "text/plain": [
       "array([[0., 0., 0., 0., 0., 0., 0., 0., 0., 0., 0., 0., 0., 0., 0., 0.,\n",
       "        0.]])"
      ]
     },
     "execution_count": 12,
     "metadata": {},
     "output_type": "execute_result"
    }
   ],
   "source": [
    "# Normalize the features\n",
    "scaler = StandardScaler()\n",
    "new_data = scaler.fit_transform(new_data)\n",
    "new_data"
   ]
  },
  {
   "cell_type": "code",
   "execution_count": 13,
   "id": "7fd275cd",
   "metadata": {},
   "outputs": [
    {
     "name": "stdout",
     "output_type": "stream",
     "text": [
      "\u001b[1m1/1\u001b[0m \u001b[32m━━━━━━━━━━━━━━━━━━━━\u001b[0m\u001b[37m\u001b[0m \u001b[1m0s\u001b[0m 88ms/step\n"
     ]
    }
   ],
   "source": [
    "# Make predictions\n",
    "predictions = model.predict(new_data)"
   ]
  },
  {
   "cell_type": "code",
   "execution_count": 14,
   "id": "47fb33b3",
   "metadata": {},
   "outputs": [],
   "source": [
    "# Convert predictions to binary output (1 for irrigate, 0 for not irrigate)\n",
    "predictions_binary = (predictions > 0.5).astype(int)"
   ]
  },
  {
   "cell_type": "code",
   "execution_count": 15,
   "id": "51561f3a",
   "metadata": {},
   "outputs": [
    {
     "name": "stdout",
     "output_type": "stream",
     "text": [
      "Irrigate: Yes\n"
     ]
    }
   ],
   "source": [
    "# Display the prediction\n",
    "if predictions_binary[0][0] == 1:\n",
    "    print(\"Irrigate: Yes\")\n",
    "else:\n",
    "    print(\"Irrigate: No\")"
   ]
  },
  {
   "cell_type": "code",
   "execution_count": null,
   "id": "9f66643f",
   "metadata": {},
   "outputs": [],
   "source": []
  }
 ],
 "metadata": {
  "kernelspec": {
   "display_name": "Python 3 (ipykernel)",
   "language": "python",
   "name": "python3"
  },
  "language_info": {
   "codemirror_mode": {
    "name": "ipython",
    "version": 3
   },
   "file_extension": ".py",
   "mimetype": "text/x-python",
   "name": "python",
   "nbconvert_exporter": "python",
   "pygments_lexer": "ipython3",
   "version": "3.9.13"
  }
 },
 "nbformat": 4,
 "nbformat_minor": 5
}
